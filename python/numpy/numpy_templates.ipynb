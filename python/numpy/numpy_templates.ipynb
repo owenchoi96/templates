{
  "nbformat": 4,
  "nbformat_minor": 0,
  "metadata": {
    "colab": {
      "provenance": []
    },
    "kernelspec": {
      "name": "python3",
      "display_name": "Python 3"
    },
    "language_info": {
      "name": "python"
    }
  },
  "cells": [
    {
      "cell_type": "code",
      "source": [
        "# np.delete (index로 지우기)\n",
        "\n",
        "# drop_train -> index list\n",
        "# tokenized_doc -> list\n",
        "drop_train = [index for index, sentence in enumerate(tokenized_doc) if len(sentence) <= 1]\n",
        "tokenized_doc = np.delete(tokenized_doc, drop_train, axis=0)"
      ],
      "metadata": {
        "id": "He9luWGgj315"
      },
      "execution_count": null,
      "outputs": []
    }
  ]
}