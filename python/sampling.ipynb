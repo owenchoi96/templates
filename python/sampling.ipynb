{
  "nbformat": 4,
  "nbformat_minor": 0,
  "metadata": {
    "colab": {
      "provenance": []
    },
    "kernelspec": {
      "name": "python3",
      "display_name": "Python 3"
    },
    "language_info": {
      "name": "python"
    }
  },
  "cells": [
    {
      "cell_type": "code",
      "execution_count": null,
      "metadata": {
        "id": "bQ-As0PgqlgC"
      },
      "outputs": [],
      "source": [
        "# 1/10으로 샘플링\n",
        "# 그냥 섞을 때는 frac=1.\n",
        "\n",
        "train_df = train_df.sample(frac=.1)\n",
        "valid_df = valid_df.sample(frac=.1)\n",
        "test_df = test_df.sample(frac=.1)"
      ]
    }
  ]
}