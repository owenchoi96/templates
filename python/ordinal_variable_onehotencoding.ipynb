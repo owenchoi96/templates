{
  "nbformat": 4,
  "nbformat_minor": 0,
  "metadata": {
    "colab": {
      "provenance": []
    },
    "kernelspec": {
      "name": "python3",
      "display_name": "Python 3"
    },
    "language_info": {
      "name": "python"
    }
  },
  "cells": [
    {
      "cell_type": "code",
      "execution_count": null,
      "metadata": {
        "id": "cd1wXFIwhKzH"
      },
      "outputs": [],
      "source": [
        "from pandas.api.types import CategoricalDtype\n",
        "\n",
        "# ex) MaturitySize\n",
        "# Small < Medium < Large\n",
        "\n",
        "maturity_size_type = CategoricalDtype(categories=['Small', 'Medium', 'Large'], ordered=True)\n",
        "df['MaturitySize'] = df['MaturitySize'].astype(maturity_size_type)"
      ]
    }
  ]
}