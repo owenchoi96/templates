{
  "nbformat": 4,
  "nbformat_minor": 0,
  "metadata": {
    "colab": {
      "provenance": []
    },
    "kernelspec": {
      "name": "python3",
      "display_name": "Python 3"
    },
    "language_info": {
      "name": "python"
    }
  },
  "cells": [
    {
      "cell_type": "code",
      "execution_count": null,
      "metadata": {
        "id": "bQ-As0PgqlgC"
      },
      "outputs": [],
      "source": [
        "# top_vocab --> list\n",
        "# vocab_cnt_list --> [(word, cnt), (word, cnt), ..]\n",
        "# tuples inside\n",
        "# sorting in reverse\n",
        "\n",
        "top_vocabs = sorted(vocab_cnt_list, key=lambda tup:tup[1], reverse=True)\n",
        "top_vocabs[:10]"
      ]
    }
  ]
}