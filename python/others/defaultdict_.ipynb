{
  "nbformat": 4,
  "nbformat_minor": 0,
  "metadata": {
    "colab": {
      "provenance": []
    },
    "kernelspec": {
      "name": "python3",
      "display_name": "Python 3"
    },
    "language_info": {
      "name": "python"
    }
  },
  "cells": [
    {
      "cell_type": "code",
      "execution_count": null,
      "metadata": {
        "id": "c6OmbD1SK6X5"
      },
      "outputs": [],
      "source": [
        "from collections import defaultdict\n",
        "import pandas as pd\n",
        "\n",
        "example_list = ['a', 'b', 'c', 'd']\n",
        "\n",
        "dd = defaultdict(lambda: 'Other') # default값이 'Other'\n",
        "\n",
        "for _, x in enumerate(x):\n",
        "    dd[x] = x\n",
        "\n",
        "# map()을 했을 때, example_list에 있지 않다면 전부 'Other'로 바꿈\n",
        "df = df.join(pd.get_dummies(df['example'].map(dd), prefix='example'))"
      ]
    }
  ]
}