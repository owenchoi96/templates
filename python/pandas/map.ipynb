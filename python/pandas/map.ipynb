{
  "nbformat": 4,
  "nbformat_minor": 0,
  "metadata": {
    "colab": {
      "provenance": []
    },
    "kernelspec": {
      "name": "python3",
      "display_name": "Python 3"
    },
    "language_info": {
      "name": "python"
    }
  },
  "cells": [
    {
      "cell_type": "code",
      "source": [
        "# map으로 len과 리스트 묶어주기\n",
        "# question_list --> list\n",
        "\n",
        "print('질문의 평균 길이 : ', sum(map(len, question_list))/len(question_list))"
      ],
      "metadata": {
        "id": "He9luWGgj315"
      },
      "execution_count": null,
      "outputs": []
    }
  ]
}