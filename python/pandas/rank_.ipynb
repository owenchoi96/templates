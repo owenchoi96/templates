{
  "nbformat": 4,
  "nbformat_minor": 0,
  "metadata": {
    "colab": {
      "provenance": []
    },
    "kernelspec": {
      "name": "python3",
      "display_name": "Python 3"
    },
    "language_info": {
      "name": "python"
    }
  },
  "cells": [
    {
      "cell_type": "markdown",
      "source": [
        "    .rank(ascending=False) # rank default method='average'\n",
        "    .rank(method='max')\n",
        "    .rank(method='min')\n",
        "    .rank(method='first')\n",
        "    .rank(method='dense')"
      ],
      "metadata": {
        "id": "F8uw8kTT2WV2"
      }
    }
  ]
}