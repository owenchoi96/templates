{
  "nbformat": 4,
  "nbformat_minor": 0,
  "metadata": {
    "colab": {
      "provenance": []
    },
    "kernelspec": {
      "name": "python3",
      "display_name": "Python 3"
    },
    "language_info": {
      "name": "python"
    }
  },
  "cells": [
    {
      "cell_type": "code",
      "execution_count": null,
      "metadata": {
        "id": "M0I8w2GCy7Ee"
      },
      "outputs": [],
      "source": [
        "dict_ = {'linear_regression' : rs,\n",
        "         'logistic_regression' : rs1,\n",
        "         'decision_tree_regression' : rs2,\n",
        "         'randomforest_regression' : rs3,\n",
        "         'support_vector_machine_regression' : rs4,\n",
        "         'lightgbm_regression' : rs5,\n",
        "         'xgboost_regression' : rs6}\n",
        "\n",
        "res = [key for key in dict_ if all(dict_[temp] >= dict_[key] for temp in dict_)] # all --> 모든 걸 만족하는 값\n",
        "\n",
        "min_ = {k : dict_[k] for k in dict_.keys() & set(res)} # & --> 조건을 붙일 수 있음.\n",
        "print(min_)"
      ]
    }
  ]
}