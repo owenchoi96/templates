{
  "nbformat": 4,
  "nbformat_minor": 0,
  "metadata": {
    "colab": {
      "provenance": []
    },
    "kernelspec": {
      "name": "python3",
      "display_name": "Python 3"
    },
    "language_info": {
      "name": "python"
    }
  },
  "cells": [
    {
      "cell_type": "code",
      "source": [
        "!pip install dask"
      ],
      "metadata": {
        "id": "NXuxMJtaOy0m"
      },
      "execution_count": null,
      "outputs": []
    },
    {
      "cell_type": "code",
      "execution_count": 1,
      "metadata": {
        "id": "YI-PV4mDCV-E"
      },
      "outputs": [],
      "source": [
        "import dask.dataframe as ddf # 데이터를 늘 메모리에 올릴 필요가 없을 때\n",
        "\n",
        "ddf = ddf.read_csv('/example.csv',\n",
        "                   dtype = {:, :}) # 데이터 프레임에 대한 meta 정보 생성\n",
        "\n",
        "ddf.head(10) # -> 필요한 데이터를 가져옴\n",
        "\n",
        "ddf['column1'].sum().compute() # compute를 걸어야 데이터를 가져옴"
      ]
    }
  ]
}