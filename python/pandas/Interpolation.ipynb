{
  "nbformat": 4,
  "nbformat_minor": 0,
  "metadata": {
    "colab": {
      "provenance": []
    },
    "kernelspec": {
      "name": "python3",
      "display_name": "Python 3"
    },
    "language_info": {
      "name": "python"
    }
  },
  "cells": [
    {
      "cell_type": "code",
      "execution_count": null,
      "metadata": {
        "id": "JpxKpv_H2pCA"
      },
      "outputs": [],
      "source": [
        "import pandas as pd\n",
        "\n",
        "# 시계열 데이터에서 보간법이 많이 쓰이므로\n",
        "# 1. 먼저 index를 date로 만든 후\n",
        "# 2. interpolate를 하여 보간을 해줍니다.\n",
        "# 3. 이후 reset_index()를 하여 다시 date를 컬럼으로 복귀시킵니다.\n",
        "\n",
        "df = df[['date', '공급량']].set_index('date').interpolate() # 보간\n",
        "df = df.reset_index()\n",
        "df"
      ]
    }
  ]
}