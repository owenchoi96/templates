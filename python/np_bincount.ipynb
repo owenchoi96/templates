{
  "nbformat": 4,
  "nbformat_minor": 0,
  "metadata": {
    "colab": {
      "provenance": []
    },
    "kernelspec": {
      "name": "python3",
      "display_name": "Python 3"
    },
    "language_info": {
      "name": "python"
    }
  },
  "cells": [
    {
      "cell_type": "code",
      "execution_count": null,
      "metadata": {
        "id": "JJzqJYXwqeHK"
      },
      "outputs": [],
      "source": [
        "from sklearn.model_selection import train_test_split\n",
        "import numpy as np\n",
        "\n",
        "X_train, X_test, y_train, y_test = train_test_split(X, y,\n",
        "                                                    test_size=.3,\n",
        "                                                    random_state=1,\n",
        "                                                    stratify=y)\n",
        "# np.bincount\n",
        "# bias가 안되어있다는 것을 보여주기 위해 --> 비율이 잘 맞아야 함.\n",
        "print('Labels counts in y : ', np.bincount(y),\n",
        "      [round(cnt/np.sum(np.bincount(y)) * 100, 1) for cnt in np.bincount(y)])\n",
        "print('Labels counts in y : ', np.bincount(y_train),\n",
        "      [round(cnt/np.sum(np.bincount(y_train)) * 100, 1) for cnt in np.bincount(y_train)])\n",
        "print('Labels counts in y : ', np.bincount(y_test),\n",
        "      [round(cnt/np.sum(np.bincount(y_test)) * 100, 1) for cnt in np.bincount(y_test)])"
      ]
    }
  ]
}