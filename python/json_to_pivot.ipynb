{
  "nbformat": 4,
  "nbformat_minor": 0,
  "metadata": {
    "colab": {
      "provenance": []
    },
    "kernelspec": {
      "name": "python3",
      "display_name": "Python 3"
    },
    "language_info": {
      "name": "python"
    }
  },
  "cells": [
    {
      "cell_type": "code",
      "execution_count": null,
      "metadata": {
        "id": "joQ6G0tG8rMz"
      },
      "outputs": [],
      "source": [
        "import numpy as np\n",
        "import pandas as pd\n",
        "\n",
        "# df['data'] 부분이 Json 형태로 되어있을 때,\n",
        "# 해당 코드를 통해 리스트 형식으로 꺼내서 zip을 한 후,\n",
        "# 데이터 프레임에 값들을 컬럼에 넣어버림\n",
        "\n",
        "df['x'], df['y'], df['z'] = zip(*df['data'].apply(lambda x : [x['X'], x['Y'], x['Z']]))\n",
        "\n",
        "# 이후 pivot을 통해 z 기준으로 값들을 재정렬\n",
        "pivoted_data = df.pivot(index='z', columns='x', values='y')#.reset_index()\n",
        "pivoted_data.head()"
      ]
    }
  ]
}