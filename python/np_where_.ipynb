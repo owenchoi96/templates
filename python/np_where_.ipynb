{
  "nbformat": 4,
  "nbformat_minor": 0,
  "metadata": {
    "colab": {
      "provenance": []
    },
    "kernelspec": {
      "name": "python3",
      "display_name": "Python 3"
    },
    "language_info": {
      "name": "python"
    }
  },
  "cells": [
    {
      "cell_type": "code",
      "execution_count": null,
      "metadata": {
        "id": "8hwct_9B1zre"
      },
      "outputs": [],
      "source": [
        "# 2018 (308), 2019 (302), 2020 (120)\n",
        "df['응답자수'] = np.where(df['연도']=='2018',\n",
        "                        round((df['응답률']*308)/100, 0), # True\n",
        "                        np.where(df['연도']=='2019', round((df['응답률']*302)/100, 0), round((df['응답률']*120)/100, 0)) # False\n",
        "                        )\n",
        "df.head()"
      ]
    }
  ]
}