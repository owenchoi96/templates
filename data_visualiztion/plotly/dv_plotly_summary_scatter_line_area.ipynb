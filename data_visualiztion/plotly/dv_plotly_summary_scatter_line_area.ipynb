{
  "nbformat": 4,
  "nbformat_minor": 0,
  "metadata": {
    "colab": {
      "provenance": []
    },
    "kernelspec": {
      "name": "python3",
      "display_name": "Python 3"
    },
    "language_info": {
      "name": "python"
    }
  },
  "cells": [
    {
      "cell_type": "code",
      "execution_count": null,
      "metadata": {
        "id": "R8_AG0aEsGxm"
      },
      "outputs": [],
      "source": [
        "# -- 정리 (July 3rd) --\n",
        "# px.scatter\n",
        "# px.scatter_matrix\n",
        "# go.Scatter\n",
        "\n",
        "# px.line\n",
        "\n",
        "# px.area"
      ]
    },
    {
      "cell_type": "code",
      "source": [
        "import plotly.io as pio\n",
        "import plotly.express as px\n",
        "import plotly.graph_objects as go\n",
        "import plotly.figure_factory as ff\n",
        "from plotly.subplots import make_subplots\n",
        "from plotly.validators.scatter.marker import SymbolValidator"
      ],
      "metadata": {
        "id": "DYqB2abFo55-"
      },
      "execution_count": 1,
      "outputs": []
    },
    {
      "cell_type": "code",
      "source": [
        "# px.scatter\n",
        "fig = px.scatter(data,\n",
        "                x = , y = ,\n",
        "                color = ,\n",
        "                size = , size_max = ,\n",
        "                hoverinfo = 'text+name', hover_data = , hover_name = ,\n",
        "                label = {'x' : , 'y' : },\n",
        "                facet_col = , facet_col_wrap = ,\n",
        "                facet_row = , facet_row_wrap = ,\n",
        "                log_x = True,\n",
        "                trendline='loweless',\n",
        "                )\n",
        "fig.show()"
      ],
      "metadata": {
        "id": "4ht0Sa4isJhF"
      },
      "execution_count": null,
      "outputs": []
    },
    {
      "cell_type": "code",
      "source": [
        "# scatter_matrix\n",
        "fig = px.scatter_matrix(data,\n",
        "                       dimensions = [], # 보고 싶은 컬럼만\n",
        "                       color = ,\n",
        "                       )\n",
        "fig.show()"
      ],
      "metadata": {
        "id": "V8ogZ_jQsJor"
      },
      "execution_count": null,
      "outputs": []
    },
    {
      "cell_type": "code",
      "source": [
        "# go.Scatter\n",
        "# 1.\n",
        "fig = go.Figure()\n",
        "fig.add_trace(go.Scatter(\n",
        "    x = , y = ,\n",
        "    name = '',\n",
        "    mode = 'markers+lines', marker_color = ''\n",
        "))\n",
        "# fig.add_trace() 추가 가능\n",
        "fig.update_traces(\n",
        "    mode = '',\n",
        "    marker_line_width = 1,\n",
        "    marker_size = 10\n",
        ")\n",
        "# legend\n",
        "fig.update_layout(legend=dict(y=.5, traceorder='reversed', font_size=16))\n",
        "fig.show()\n",
        "\n",
        "# 2.\n",
        "fig = go.Figure(data=go.Scatter(\n",
        "    x = , y = ,\n",
        "    mode = 'markers',\n",
        "    marker = dict(size = ,\n",
        "                  color = )\n",
        "))\n",
        "fig.show()"
      ],
      "metadata": {
        "id": "39DnvSaPsJuS"
      },
      "execution_count": null,
      "outputs": []
    },
    {
      "cell_type": "code",
      "source": [
        "# px.line\n",
        "fig = px.line(data,\n",
        "             x = , y = ,\n",
        "             range_x = ['2016-02-01', '2017-02-27'],\n",
        "             )\n",
        "fig.update_xaxes(rangeslider_visible=True) # rangeslider\n",
        "fig.show()"
      ],
      "metadata": {
        "id": "V9fPQCNmsJ2L"
      },
      "execution_count": null,
      "outputs": []
    },
    {
      "cell_type": "code",
      "source": [
        "# px.area\n",
        "fig = px.area(data,\n",
        "             x = , y = ,\n",
        "             color = ,\n",
        "             line_group = ,\n",
        "             )\n",
        "fig.show()\n",
        "\n",
        "# go.Scatter로 표현\n",
        "fig = go.Figure()\n",
        "fig.add_trace(go.Scatter(\n",
        "    x = , y = ,\n",
        "    fill = '', # tozeroy, tonexty, none\n",
        "    mode = '', # lines, markers, none\n",
        "    line_color = '' # indigo, skyblue, royalblue, darkblue ...\n",
        "))\n",
        "fig.show()\n",
        "\n",
        "# 여러개\n",
        "fig = go.Figure()\n",
        "fig.add_trace(go.Scatter(\n",
        "    x = , y = ,\n",
        "    hoverinfo = 'x+y',\n",
        "    mode = '',\n",
        "    line = dict(\n",
        "        width = ,\n",
        "        color = ,\n",
        "        stackgroup = 'one'\n",
        "    )\n",
        "))\n",
        "fig.add_trace(go.Scatter(\n",
        "    x = , y = ,\n",
        "    hoverinfo = 'x+y',\n",
        "    mode = '',\n",
        "    line = dict(\n",
        "        width = ,\n",
        "        color = ,\n",
        "        stackgroup = 'one'\n",
        "    )\n",
        "))\n",
        "fig.update_layout(yaxis_range = (0,100))\n",
        "fig.show()"
      ],
      "metadata": {
        "id": "yB8NcGdOueF4"
      },
      "execution_count": null,
      "outputs": []
    }
  ]
}