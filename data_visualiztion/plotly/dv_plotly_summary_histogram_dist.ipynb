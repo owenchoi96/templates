{
  "nbformat": 4,
  "nbformat_minor": 0,
  "metadata": {
    "colab": {
      "provenance": []
    },
    "kernelspec": {
      "name": "python3",
      "display_name": "Python 3"
    },
    "language_info": {
      "name": "python"
    }
  },
  "cells": [
    {
      "cell_type": "code",
      "execution_count": null,
      "metadata": {
        "id": "eYXYKNw8GpIv"
      },
      "outputs": [],
      "source": [
        "import plotly.io as pio\n",
        "import plotly.express as px\n",
        "import plotly.graph_objects as go\n",
        "import plotly.figure_factory as ff\n",
        "from plotly.subplots import make_subplots\n",
        "from plotly.validators.scatter.marker import SymbolValidator"
      ]
    },
    {
      "cell_type": "code",
      "source": [
        "# px.histogram\n",
        "fig = px.histogram(\n",
        "    data, x=, y=,\n",
        "    nbins=, # bin 개수\n",
        "    histnorm = , # 바 그리는 기준, probability density/\n",
        "    labels = { : }, # label 이름 변경\n",
        "    opacity = , # 불투명도\n",
        "    log_y = , log_x = , # log 스케일\n",
        "    color = ,\n",
        "    color_discrete_sequence = [ , ], # 색깔 구분 순서\n",
        "    histfunc = , # 집계범위, count(by default)/avg\n",
        "    marginal= , # rug/box/violin\n",
        "    hover_data = , # [], data.columns\n",
        "    hover_name = ,\n",
        "    height =\n",
        ")\n",
        "fig.show()\n",
        "\n",
        "# VS px.bar\n",
        "fig1 = px.bar(\n",
        "    data, x=, y=,\n",
        ")\n",
        "fig1.show()\n",
        "fig2 = px.histogram(\n",
        "    data, x=, y=,\n",
        "    histfunc='sum'\n",
        ")\n",
        "fig2.show()"
      ],
      "metadata": {
        "id": "I6lWzaCuRhP1"
      },
      "execution_count": null,
      "outputs": []
    },
    {
      "cell_type": "code",
      "source": [
        "# go.Histogram\n",
        "fig = go.Figure()\n",
        "fig.add_trace(go.Histogram(\n",
        "    data, x=, y=,\n",
        "    cumulative_enables = , # 누적, True/False(by default)\n",
        "))\n",
        "fig.update_layout(\n",
        "    barmode = '', # overlay/stack\n",
        ")\n",
        "fig.update_traces(\n",
        "    opacity = , # 불투명도(투명도)\n",
        ")\n",
        "fig.show()"
      ],
      "metadata": {
        "id": "2M-R1nogShsl"
      },
      "execution_count": null,
      "outputs": []
    },
    {
      "cell_type": "code",
      "source": [
        "# ff.create_distplot\n",
        "hist_data = [..]\n",
        "group_labels = [..]\n",
        "\n",
        "fig = ff.create_distplot(\n",
        "    data,\n",
        "    group_labels,\n",
        "    bin_size = , # []/숫자\n",
        "    show_hist = , # True/False\n",
        "    show_curve = , # True/False\n",
        "    show_rug = # True/False\n",
        ")\n",
        "fig.show()\n",
        "\n",
        "# px.scatter로 나타내기\n",
        "fig = px.scatter(\n",
        "    data, x=, y=,\n",
        "    marginal_x = , marginal_y = , # histogram/rug/box/violin\n",
        "    color=,\n",
        ")"
      ],
      "metadata": {
        "id": "Xp5rdFymTWzA"
      },
      "execution_count": null,
      "outputs": []
    }
  ]
}