{
  "nbformat": 4,
  "nbformat_minor": 0,
  "metadata": {
    "colab": {
      "provenance": []
    },
    "kernelspec": {
      "name": "python3",
      "display_name": "Python 3"
    },
    "language_info": {
      "name": "python"
    }
  },
  "cells": [
    {
      "cell_type": "code",
      "execution_count": null,
      "metadata": {
        "id": "foGWcK5HUWf_"
      },
      "outputs": [],
      "source": [
        "import plotly.io as pio\n",
        "import plotly.express as px\n",
        "import plotly.graph_objects as go\n",
        "import plotly.figure_factory as ff\n",
        "from plotly.subplots import make_subplots\n",
        "from plotly.validators.scatter.marker import SymbolValidator"
      ]
    },
    {
      "cell_type": "code",
      "source": [
        "# go.Heatmap\n",
        "fig = go.Figure(data=go.Heatmap(\n",
        "    x = , # x 축값\n",
        "    y = , # y 축값\n",
        "    z = ,\n",
        "))\n",
        "fig.show()"
      ],
      "metadata": {
        "id": "JBs-rukmUZqU"
      },
      "execution_count": null,
      "outputs": []
    },
    {
      "cell_type": "code",
      "source": [
        "# annotated heatmap\n",
        "# 값을 나타내주는 heatmap\n",
        "fig = ff.create_annotated_heatmap(\n",
        "    x = ,\n",
        "    y = ,\n",
        "    z = ,\n",
        ")\n",
        "fig.show()"
      ],
      "metadata": {
        "id": "HdzN7ghbt6SL"
      },
      "execution_count": null,
      "outputs": []
    },
    {
      "cell_type": "code",
      "source": [
        "# density heatmap\n",
        "fig = px.density_heatmap(\n",
        "    data,\n",
        "    x = ,\n",
        "    y = ,\n",
        "    nbinsx = , nbinsy = , # 좀 더 촘촘하게 만들 수 있음\n",
        "    color_continous_scale = , # 색깔 지정 viridis/\n",
        "    marginal_x = , marginal_y = , # marginal 정보, histogram/box/violin/..\n",
        "    facet_col = , facet_row = ,\n",
        "    histfunc = , # avg\n",
        ")\n",
        "fig.show()"
      ],
      "metadata": {
        "id": "GBylF_9ruB20"
      },
      "execution_count": null,
      "outputs": []
    }
  ]
}