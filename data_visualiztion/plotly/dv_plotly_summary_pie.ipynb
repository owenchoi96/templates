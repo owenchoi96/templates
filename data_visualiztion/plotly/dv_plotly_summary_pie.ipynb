{
  "nbformat": 4,
  "nbformat_minor": 0,
  "metadata": {
    "colab": {
      "provenance": []
    },
    "kernelspec": {
      "name": "python3",
      "display_name": "Python 3"
    },
    "language_info": {
      "name": "python"
    }
  },
  "cells": [
    {
      "cell_type": "code",
      "execution_count": null,
      "metadata": {
        "id": "8JUX43CktoKC"
      },
      "outputs": [],
      "source": [
        "import plotly.io as pio\n",
        "import plotly.express as px\n",
        "import plotly.graph_objects as go\n",
        "import plotly.figure_factory as ff\n",
        "from plotly.subplots import make_subplots\n",
        "from plotly.validators.scatter.marker import SymbolValidator"
      ]
    },
    {
      "cell_type": "code",
      "source": [
        "# px.pie\n",
        "fig = px.pie(\n",
        "    data,\n",
        "    values = ,\n",
        "    names = ,\n",
        "    hover_data = [], # hover data에 추가하고픈 정보\n",
        "    labels = {'' : ''}, # 컬럼 이름 변경 가능\n",
        "    color_discrete_sequence = , # 색깔 구성 순서, px.colors.sequential.Viridis\n",
        "    hole = , # 구멍, .4\n",
        "    textinfo = '', # 겉으로 보이는 text 정보, percent+label/value/..\n",
        "    textfont_size = ,\n",
        "    marker = dict(\n",
        "        color = ,\n",
        "        line = dict(\n",
        "            color = ,\n",
        "            width =\n",
        "        ),\n",
        "        pull = []\n",
        "    )\n",
        ")\n",
        "fig.update_traces(\n",
        "    textposition = '', # 텍스트 위치, inside/..\n",
        "    textinfo = '', # 겉으로 보이는 text 정보, percent+label/..\n",
        "    textfont_size = , # 텍스트 사이즈\n",
        ")\n",
        "fig.show()"
      ],
      "metadata": {
        "id": "oZFQod9jtrrW"
      },
      "execution_count": null,
      "outputs": []
    },
    {
      "cell_type": "code",
      "source": [
        "# px.sunburst\n",
        "\n",
        "data = dict(\n",
        "    character = [],\n",
        "    parent = [],\n",
        "    value = []\n",
        ")\n",
        "\n",
        "fig = px.sunburst(\n",
        "    data,\n",
        "    names = 'character',\n",
        "    parents = 'parent',\n",
        "    values = # value\n",
        ")\n",
        "fig.show()"
      ],
      "metadata": {
        "id": "7yqGSC_KwfbB"
      },
      "execution_count": null,
      "outputs": []
    },
    {
      "cell_type": "code",
      "source": [
        "# -- polar chart --\n",
        "# px.scatter_polar\n",
        "fig = px.scatter_polar(\n",
        "    data,\n",
        "    r = , # 값 frequency\n",
        "    theta = , # 방향 direction\n",
        "    color = ,\n",
        "    symbol = ,\n",
        "    size = ,\n",
        "    color_discrete_sequence = , # px.colors.sequential.Blues_r\n",
        ")\n",
        "fig.show()\n",
        "\n",
        "# px.line_polar\n",
        "fig = px.line_polar(\n",
        "    data,\n",
        "    r = ,\n",
        "    theta = ,\n",
        "    color = ,\n",
        "    line_close = , # True\n",
        "    template = '', # 템플릿 plotly_dark\n",
        "    color_discrete_sequence = , # px.colors.sequential.deep\n",
        ")\n",
        "fig.show()\n",
        "\n",
        "# px.bar_polar\n",
        "fig = px.bar_polar(\n",
        "    data,\n",
        "    r = ,\n",
        "    theta = ,\n",
        "    color = ,\n",
        "    template = ,\n",
        "    color_discrete_sequence = , # px.colors.sequential.deep\n",
        ")\n",
        "fig.show()"
      ],
      "metadata": {
        "id": "-UZJp5wCw3jT"
      },
      "execution_count": null,
      "outputs": []
    }
  ]
}