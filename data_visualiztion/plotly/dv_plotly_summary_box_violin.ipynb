{
  "nbformat": 4,
  "nbformat_minor": 0,
  "metadata": {
    "colab": {
      "provenance": []
    },
    "kernelspec": {
      "name": "python3",
      "display_name": "Python 3"
    },
    "language_info": {
      "name": "python"
    }
  },
  "cells": [
    {
      "cell_type": "code",
      "execution_count": null,
      "metadata": {
        "id": "tLv2A8p0FGHD"
      },
      "outputs": [],
      "source": [
        "import plotly.io as pio\n",
        "import plotly.express as px\n",
        "import plotly.graph_objects as go\n",
        "import plotly.figure_factory as ff\n",
        "from plotly.subplots import make_subplots\n",
        "from plotly.validators.scatter.marker import SymbolValidator"
      ]
    },
    {
      "cell_type": "code",
      "source": [
        "# px.box\n",
        "fig = px.box(\n",
        "    data, x=, y=,\n",
        "    points = , # 'all' : 모든 포인트\n",
        "    color = ,\n",
        "    notched = , # True\n",
        "    hover_data = [], # .columns : 모든 컬럼 데이터\n",
        "\n",
        ")\n",
        "fig.show()"
      ],
      "metadata": {
        "id": "RFdHd5pWFL8R"
      },
      "execution_count": null,
      "outputs": []
    },
    {
      "cell_type": "code",
      "source": [
        "# go.Box\n",
        "fig = go.Figure()\n",
        "fig.add_trace(go.Box(\n",
        "    data, x=, y=,\n",
        "    boxpoints = , # all : 모든 포인트\n",
        "    pointpos = , # 포인트 위치\n",
        "    jitter = , # 포인트 겹치는 정도\n",
        "    marker_color = , # 포인트 색깔\n",
        "    line_color = , # box plot 라인 색깔\n",
        "))\n",
        "fig.show()"
      ],
      "metadata": {
        "id": "X5_ZoVpyFjB5"
      },
      "execution_count": null,
      "outputs": []
    },
    {
      "cell_type": "code",
      "source": [
        "# px.violin\n",
        "fig = px.violin(\n",
        "    data, x=, y=,\n",
        "    box=True, # box 보여줌\n",
        "    points = , # 'all' : 모든 포인트\n",
        "    hover_data = [],\n",
        "    color = ,\n",
        ")"
      ],
      "metadata": {
        "id": "bTJ4mInsGBkg"
      },
      "execution_count": null,
      "outputs": []
    }
  ]
}