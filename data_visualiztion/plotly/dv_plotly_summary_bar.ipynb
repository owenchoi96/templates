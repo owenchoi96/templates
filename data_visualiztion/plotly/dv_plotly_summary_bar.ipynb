{
  "nbformat": 4,
  "nbformat_minor": 0,
  "metadata": {
    "colab": {
      "provenance": []
    },
    "kernelspec": {
      "name": "python3",
      "display_name": "Python 3"
    },
    "language_info": {
      "name": "python"
    }
  },
  "cells": [
    {
      "cell_type": "code",
      "execution_count": null,
      "metadata": {
        "id": "YPX2lUf7xpz3"
      },
      "outputs": [],
      "source": [
        "import plotly.io as pio\n",
        "import plotly.express as px\n",
        "import plotly.graph_objects as go\n",
        "import plotly.figure_factory as ff\n",
        "from plotly.subplots import make_subplots\n",
        "from plotly.validators.scatter.marker import SymbolValidator"
      ]
    },
    {
      "cell_type": "code",
      "source": [
        "# px.bar\n",
        "fig = px.bar(\n",
        "    data, x = , y = ,\n",
        "    hover_data = [], # hover시 보이는 데이터 지정 가능\n",
        "    color = ,\n",
        "    height = , # 높이\n",
        "    barmode = '', # group,\n",
        "    facet_row, facet_col,\n",
        "    category_orders = {'', [], '', []}, # facet에 따른 category 순서 지정\n",
        "    orientation = , # 'h' bar 방향\n",
        "\n",
        ")\n",
        "fig.show()\n",
        "\n",
        "# animation\n",
        "fig = px.bar(\n",
        "    data, x=, y=,\n",
        "    color = ,\n",
        "    animation_frame = '', # 애니메이션 변하는 기준 (재생버튼 부분)\n",
        "    animation_group = '' # column 이름\n",
        "    range_y = [0, ..]\n",
        ")\n",
        "fig.show()"
      ],
      "metadata": {
        "id": "g4uoBLj895ou"
      },
      "execution_count": null,
      "outputs": []
    },
    {
      "cell_type": "code",
      "source": [
        "# go.Bar\n",
        "fig = go.Figure()\n",
        "fig.add_trace(go.Bar(\n",
        "    data, x=, y=,\n",
        "    width= , # bar 너비\n",
        "    base = [], # default로 0, bar 시작점\n",
        "    marker_color = ,\n",
        "    name =\n",
        "))\n",
        "fig.update_layout(\n",
        "    barmode = '', # relative/stack/group\n",
        "    xaxis = {'categoryorder' : '', # 순서 정렬, category ascending/total descending/array\n",
        "             'categoryarray' : []}, # 'array'로 지정하면 순서 수동으로 정렬\n",
        ")\n",
        "fig.show()\n",
        "\n",
        "# error bar\n",
        "fig = go.Figure()\n",
        "fig.add_trace(go.Bar(\n",
        "    data, x=, y=,\n",
        "    error_y = dict(\n",
        "        type = '', # data/percent\n",
        "        array = [], # error바 높이\n",
        "        arrayminus = [], # 길이 조정\n",
        "        value = , # array 없이 길이 정함/percent와 쓰임\n",
        "        valueminus = , # value와 쓰임\n",
        "        symmetric=, # True/False\n",
        "        visible=True\n",
        "    ),\n",
        "    error_x = , # error_y 참조\n",
        "))\n",
        "fig.update_layout()\n",
        "fig.show()\n",
        "\n",
        "# 수동으로 색깔 지정하고 싶을 때\n",
        "colors = ['', ] * 5\n",
        "colors[1] = ''\n",
        "colors[2] = ''\n",
        "\n",
        "fig = go.Figure()\n",
        "fig.add_trace(go.Bar(\n",
        "    data, x=, y=,\n",
        "    marker_color = colors\n",
        "))\n",
        "fig.update_layout()\n",
        "fig.show()\n",
        "\n"
      ],
      "metadata": {
        "id": "2E8KRkce-SAf"
      },
      "execution_count": null,
      "outputs": []
    },
    {
      "cell_type": "code",
      "source": [
        ""
      ],
      "metadata": {
        "id": "zjzmbMPf-5fv"
      },
      "execution_count": null,
      "outputs": []
    }
  ]
}