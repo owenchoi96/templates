{
  "nbformat": 4,
  "nbformat_minor": 0,
  "metadata": {
    "colab": {
      "provenance": []
    },
    "kernelspec": {
      "name": "python3",
      "display_name": "Python 3"
    },
    "language_info": {
      "name": "python"
    }
  },
  "cells": [
    {
      "cell_type": "code",
      "execution_count": 1,
      "metadata": {
        "id": "YI-PV4mDCV-E"
      },
      "outputs": [],
      "source": [
        "import matplotlib.pyplot as plt\n",
        "import seaborn as sns\n",
        "import warnings; warnings.filterwarnings(action='once')\n",
        "\n",
        "large=22\n",
        "med=16\n",
        "small=12\n",
        "params = {\n",
        "    'axes.titlesize' : large,\n",
        "    'legend.fontisze' : med,\n",
        "    'figure.figsize' : (16,10),\n",
        "    'axes.labelsize' : med,\n",
        "    'axes.titlesize' : med,\n",
        "    'xtick.labelsize' : med,\n",
        "    'ytick.labelsize' : med,\n",
        "    'figure.titlesize' : large\n",
        "}\n",
        "plt.rcParams.update(params)\n",
        "plt.style.use('seaborn-whitegrid')\n",
        "sns.set_style('white')\n",
        "%matplotlib inline"
      ]
    }
  ]
}