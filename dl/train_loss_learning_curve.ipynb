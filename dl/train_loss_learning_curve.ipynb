{
  "nbformat": 4,
  "nbformat_minor": 0,
  "metadata": {
    "colab": {
      "provenance": []
    },
    "kernelspec": {
      "name": "python3",
      "display_name": "Python 3"
    },
    "language_info": {
      "name": "python"
    }
  },
  "cells": [
    {
      "cell_type": "code",
      "execution_count": null,
      "metadata": {
        "id": "bQ-As0PgqlgC"
      },
      "outputs": [],
      "source": [
        "# -- learning curve --\n",
        "\n",
        "def calc_moving_average(arr, win_size=100):\n",
        "    new_arr = []\n",
        "    win = []\n",
        "\n",
        "    for i, val in enumerate(arr):\n",
        "        win.append(val)\n",
        "        if len(win) > win_size:\n",
        "            win.pop(0)\n",
        "\n",
        "        new_arr.append(np.mean(win))\n",
        "    return np.array(new_arr)"
      ]
    }
  ]
}