{
  "nbformat": 4,
  "nbformat_minor": 0,
  "metadata": {
    "colab": {
      "provenance": []
    },
    "kernelspec": {
      "name": "python3",
      "display_name": "Python 3"
    },
    "language_info": {
      "name": "python"
    }
  },
  "cells": [
    {
      "cell_type": "code",
      "execution_count": null,
      "metadata": {
        "id": "oawzM280OCwS"
      },
      "outputs": [],
      "source": [
        "import gc\n",
        "import pandas as pd\n",
        "import numpy as np\n",
        "import matplotlib.pyplot as plt\n",
        "\n",
        "import warnings; warnings.filterwarnings('ignore')\n",
        "\n",
        "from sklearn.datasets import load_iris\n",
        "from sklearn.metrics import confusion_matrix, f1_score\n",
        "from sklearn.preprocessing import MinMaxScaler # distance 기반의 알고리즘의 경우 scaling 필요\n",
        "from sklearn.decomposition import PCA\n",
        "\n",
        "# K-means\n",
        "from sklearn.cluster import KMeans\n",
        "# Hiearchy clustering\n",
        "from sklearn.cluster import AgglomerativeClustering\n",
        "from scipy.cluster.hierachy import dendrogram, linkage\n",
        "# Spectral clustering\n",
        "from sklearn.cluster import SpectralClustering\n",
        "# DBSCAN\n",
        "from sklearn.cluster import DBSCAN\n",
        "# HDBSCAN\n",
        "# !pip install -q hdbscan\n",
        "import hdbscan"
      ]
    },
    {
      "cell_type": "code",
      "source": [
        "# scaling\n",
        "scaler = MinMaxScaler().fit(X)\n",
        "X_scal = scaler.transform(X)\n",
        "X_scal = pd.DataFrame(X_scal, columns=X.columns)\n",
        "\n",
        "# 차원 축소\n",
        "# 그래프로 그리기 위해서\n",
        "pca = PCA(n_components=2).fit(X)\n",
        "X_pca = pca.fit_transform(X)\n",
        "X_emm = pd.DataFrame(X_pca, columns=['axis_1', 'axis_2'])\n",
        "print('pca variance : {}'.format(pca.explained_variance_ratio_))"
      ],
      "metadata": {
        "id": "aRh3f0QBR8P2"
      },
      "execution_count": null,
      "outputs": []
    },
    {
      "cell_type": "code",
      "source": [
        "# K-means\n",
        "\n",
        "# parameters\n",
        "    # n_clusters : k 개수\n",
        "    # n_init : 초기 중심점 설정, default=10\n",
        "    # max_iter : 몇 번 round 진행할 지, default=300\n",
        "\n",
        "# modeling\n",
        "for cluster in list(range(2,6)):\n",
        "    Cluster = KMeans(n_clusters=cluster).fit(X_scal) # scaled X\n",
        "    labels = Cluster.predict(X_scal)\n",
        "\n",
        "    # label added to dataframe\n",
        "    data['{} label'.format(cluster)] = labels\n",
        "    labels = pd.DataFrame(labels, columns=['labels'])\n",
        "    # plot data setting\n",
        "    plot_data = pd.concat([X_EMM, labels], axis=1)\n",
        "    groups = plot_data.groupby('labels')\n",
        "\n",
        "    mar = ['o', '+', '*', 'D', ',', 'h',\n",
        "           '1', '2', '3', '4', 's', '<', '>']\n",
        "    colo = ['red', 'orange', 'green', 'blue', 'cyan',\n",
        "            'magenta', 'black', 'yellow', 'grey', 'orchid', 'lightpink']\n",
        "\n",
        "    fig, ax = plt.subplots(figsize=(5,5))\n",
        "    for j, (name, group) in enumerate(groups):\n",
        "        ax.plot(group['AXIS1'],\n",
        "                group['AXIS2'],\n",
        "                marker=mar[j],\n",
        "                linestyle='',\n",
        "                label=name,\n",
        "                c=colo[j],\n",
        "                ms=10)\n",
        "        ax.legend(fontsize=12, loc='upper right')\n",
        "    plt.title('Scatter plot', fontsize=20)\n",
        "    plt.xlabel('AXIS1', fontsize=14)\n",
        "    plt.ylabel('AXIS2', fontsize=14)\n",
        "    plt.show()\n",
        "    print('-'*60)\n",
        "\n",
        "    gc.collect()"
      ],
      "metadata": {
        "id": "sSB_PYaVSckb"
      },
      "execution_count": null,
      "outputs": []
    },
    {
      "cell_type": "code",
      "source": [
        "# HC\n",
        "\n",
        "method = ['single', 'complete', 'average', 'weighted', 'centroid', 'median', 'ward']\n",
        "\n",
        "# for m in method:\n",
        "#     HC = linkage(X_scal, method=m)\n",
        "#     plt.figure(figsize=(5,5))\n",
        "#     dendrogram(HC,\n",
        "#                leaf_rotation=90,\n",
        "#                leaf_font_size=20)\n",
        "#     plt.show()\n",
        "\n",
        "HC = linkage(X_scal, method=method[-1])\n",
        "plt.figure(figsize=(5,5))\n",
        "dendrogram(HC,\n",
        "           leaf_rotation=90,\n",
        "           leaf_font_size=20)\n",
        "plt.show()"
      ],
      "metadata": {
        "id": "IaI0OXDlTaEg"
      },
      "execution_count": null,
      "outputs": []
    },
    {
      "cell_type": "code",
      "source": [
        "# Spectral clustering\n",
        "\n",
        "# parameters\n",
        "    # n_clusters\n",
        "    # affinity : 유사도 행렬 만드는 기법\n",
        "        # nearest neighbors, rbf, precomputed, precomputed_nearest_neighbors\n",
        "    # n_neighbors : 유사도 계산시 주변 몇개의 n개를 보고 판단할 것인지\n",
        "        # ignored for 'rbf'\n",
        "\n",
        "# modeling\n",
        "for cluster in list(range(2,6)):\n",
        "    Cluster = SpectralClustering(n_clusters=cluster).fit(X_scal)\n",
        "    labels = Cluster.labels_ # predict X\n",
        "\n",
        "    # label add to dataframe\n",
        "    data['{} label'.format(cluster)] = labels\n",
        "    labels = pd.DataFrame(labels, columns=['labels'])\n",
        "    # plot data setting\n",
        "    plot_data = pd.concat([X_EMM, labels], axis=1)\n",
        "    groups = plot_data.groupby('labels')\n",
        "\n",
        "    mar = ['o', '+', '*', 'D', ',', 'h', '1', '2', '3', '4', 's', '<', '>']\n",
        "    colo = ['red', 'orange', 'green', 'blue', 'cyan', 'magenta', 'black', 'yellow', 'grey', 'orchid', 'lightpink']\n",
        "\n",
        "    fig, ax = plt.subplots(figsize=(5,5))\n",
        "    for j, (name, group) in enumerate(groups):\n",
        "        ax.plot(group['AXIS1'],\n",
        "                group['AXIS2'],\n",
        "                marker=mar[j],\n",
        "                linestyle='',\n",
        "                label=name,\n",
        "                c=colo[j],\n",
        "                ms=4)\n",
        "        ax.legend(fontsize=12, loc='upper right')\n",
        "    plt.title('Scatter plot', fontsize=20)\n",
        "    plt.xlabel('AXIS1', fontsize=14)\n",
        "    plt.ylabel('AXIS2', fontsize=14)\n",
        "    plt.show()\n",
        "    print('-'*70)\n",
        "\n",
        "    gc.collect()\n",
        "\n",
        "# confusion matrix\n",
        "cm = confusion_matrix(data['censor'], data['2 label'])\n",
        "print(cm)\n",
        "\n",
        "# ACC & F1-score\n",
        "# 정확도 자체는 좋지 않음\n",
        "# 클러스터링은 distance를 가지고 단순히 분포를 나누어주는 것임\n",
        "\n",
        "print('Test Acc : {}'.format((cm[0,0] + cm[1,1])/cm.sum()))\n",
        "print('F1-score : {}'.format(f1_score(data['censor'], data['2 label'])))"
      ],
      "metadata": {
        "id": "E7uwKfYdUA-_"
      },
      "execution_count": null,
      "outputs": []
    },
    {
      "cell_type": "code",
      "source": [
        "# DBSCAN\n",
        "\n",
        "# parameters\n",
        "    # epsilon : 이웃 판단 거리\n",
        "    # metric : default=euclidean\n",
        "    # min_samples : eps 안에 최소 몇개의 이웃의 숫자가 분포하는지\n",
        "\n",
        "epsilon = [.1, .2, .3, .4, .5, .6, .7]\n",
        "minPls = [5, 10, 15, 20]\n",
        "\n",
        "for e in epsilon:\n",
        "    for m in minPls:\n",
        "        print('epsilon : {}, minPls : {}'.format(e, m))\n",
        "        db = DBSCAN(eps=e, min_samples=m).fit(test_data)\n",
        "        palette = sns.color_palette()\n",
        "        cluster_colors = [palette[col]\n",
        "                          if col >= 0 else (.5, .5, .5) for col in db.labels_]\n",
        "        plt.scatter(test_data.T[0], test_data.T[1], c=cluster_colors, **plot_kwds) # 2차원 예시 데이터\n",
        "        plt.show()"
      ],
      "metadata": {
        "id": "3aYP-46PXP0p"
      },
      "execution_count": null,
      "outputs": []
    },
    {
      "cell_type": "code",
      "source": [
        "# HDBSCAN\n",
        "\n",
        "# parameters\n",
        "    # min_cluster_size : cluster 안에 적어도 몇개가 있어야 하는지\n",
        "    # cluster_selection_epsilon : combining HDBSCAN with DBSCAN\n",
        "\n",
        "minsize = [3, 5, 10, 15, 20, 30]\n",
        "\n",
        "for m in minsize:\n",
        "    print('min_cluster_size : {}'.format(m))\n",
        "    db = hdbscan.HDBSCAN(min_cluster_size=m).fit(test_data)\n",
        "    palette = sns.color_palette()\n",
        "    cluster_colors = [palette[col]\n",
        "                        if col >= 0 else (.5, .5, .5) for col in db.labels_]\n",
        "    plt.scatter(test_data.T[0], test_data.T[1], c=cluster_colors, **plot_kwds) # 2차원 예시 데이터\n",
        "    plt.show()"
      ],
      "metadata": {
        "id": "WkTwhayQYNa5"
      },
      "execution_count": null,
      "outputs": []
    }
  ]
}