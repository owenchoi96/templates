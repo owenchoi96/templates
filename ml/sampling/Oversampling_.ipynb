{
  "nbformat": 4,
  "nbformat_minor": 0,
  "metadata": {
    "colab": {
      "provenance": []
    },
    "kernelspec": {
      "name": "python3",
      "display_name": "Python 3"
    },
    "language_info": {
      "name": "python"
    }
  },
  "cells": [
    {
      "cell_type": "code",
      "execution_count": null,
      "metadata": {
        "id": "HXx-vvFw5L68"
      },
      "outputs": [],
      "source": [
        "# -- oversampling with Numpy --\n",
        "\n",
        "bool_y_train = y_train != 0 # with train data\n",
        "\n",
        "pos_features = X_train_sd[bool_y_train]\n",
        "neg_features = X_train_sd[~bool_y_train]\n",
        "\n",
        "pos_labels = y_train[bool_y_train]\n",
        "neg_labels = y_train[~bool_y_train]\n",
        "\n",
        "# 여기서 pos_features의 len()은 17\n",
        "ids = np.arange(len(pos_features)) # [0, 1, .. 15, 16]\n",
        "choices = np.random.choice(ids, len(neg_features)) # (9951,)\n",
        "\n",
        "res_pos_features = pos_features[choices]\n",
        "res_pos_labels = pos_labels[choices]\n",
        "\n",
        "resampled_features = np.concatenate([res_pos_features, neg_features], axis=0)\n",
        "resampled_labels = np.concatenate([res_pos_labels, neg_labels], axis=0)\n",
        "\n",
        "order = np.arange(len(resampled_labels))\n",
        "np.random.shuffle(order) # random으로 shuffle\n",
        "\n",
        "resampled_features = resampled_features[order]\n",
        "resampled_labels = resampled_labels[order]\n",
        "\n",
        "resampled_features.shape, resampled_labels.shape"
      ]
    },
    {
      "cell_type": "code",
      "source": [
        "# -- oversampling with imblearn --\n",
        "\n",
        "from imblearn.over_sampling import RandomOverSampler\n",
        "\n",
        "ros = RandomOverSampler(random_state=0)\n",
        "\n",
        "X_resampled, y_resampled = ros.fit_resample(X_train_sd, y_train)\n",
        "\n",
        "from collections import Counter\n",
        "print(sorted(Counter(y_resampled).items()))"
      ],
      "metadata": {
        "id": "cmkUVhbN5yBK"
      },
      "execution_count": null,
      "outputs": []
    }
  ]
}