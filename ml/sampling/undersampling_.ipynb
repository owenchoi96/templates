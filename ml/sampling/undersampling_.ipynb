{
  "nbformat": 4,
  "nbformat_minor": 0,
  "metadata": {
    "colab": {
      "provenance": []
    },
    "kernelspec": {
      "name": "python3",
      "display_name": "Python 3"
    },
    "language_info": {
      "name": "python"
    }
  },
  "cells": [
    {
      "cell_type": "code",
      "execution_count": null,
      "metadata": {
        "id": "mJAjVDTt4FDB"
      },
      "outputs": [],
      "source": [
        "import pandas as pd\n",
        "import numpy as np\n",
        "\n",
        "# binary classification\n",
        "# 10%로 undersampling 진행\n",
        "y0_undersampled = df.loc[df['class'] == 0, :].sample(frac=.1, replace=True, random_state=1)\n",
        "y1_undersampled = df.loc[df['class'] == 1, :].sample(frac=.1, replace=True, random_state=1)\n",
        "\n",
        "# 둘이 합치기\n",
        "df_undersampled = pd.concat([y0_undersampled, y1_undersampled], axis=0)"
      ]
    }
  ]
}