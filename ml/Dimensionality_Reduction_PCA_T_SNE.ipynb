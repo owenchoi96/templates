{
  "nbformat": 4,
  "nbformat_minor": 0,
  "metadata": {
    "colab": {
      "provenance": []
    },
    "kernelspec": {
      "name": "python3",
      "display_name": "Python 3"
    },
    "language_info": {
      "name": "python"
    }
  },
  "cells": [
    {
      "cell_type": "code",
      "execution_count": null,
      "metadata": {
        "id": "DPVrxh1PZVJn"
      },
      "outputs": [],
      "source": [
        "import numpy as np\n",
        "import pandas as pd\n",
        "import matplotlib.pyplot as plt\n",
        "import seaborn as sns\n",
        "import sklearn.datasets as data\n",
        "import gc\n",
        "\n",
        "from keras.datasets import mnist # data\n",
        "# PCA\n",
        "from sklearn.decomposition import PCA\n",
        "# T-SNE\n",
        "from sklearn.manifold import TSNE"
      ]
    },
    {
      "cell_type": "code",
      "source": [
        "# PCA\n",
        "\n",
        "# parameters\n",
        "    # n_components : 축 몇개?\n",
        "    # explained_variance_:\n",
        "    # explained_variance_ratio_ : 분산 표현 비율\n",
        "\n",
        "# pca fitting\n",
        "pca = PCA(n_components=20) # 784 -> 20\n",
        "X_pca = pca.fit_transform(X)\n",
        "print('PCA output shape : {}'.format(X_pca.shape))\n",
        "\n",
        "# Eigenvalue\n",
        "print(pca.explained_variance_)\n",
        "\n",
        "# Eigenvalue ratio\n",
        "print('\\n',pca.explained_variance_ratio_) # 가장 잘 표현 하는 게 10% 밖에 안됨\n",
        "\n",
        "# redesign\n",
        "new_coordinates = np.vstack((X_pca[:, :2].T, y)).T\n",
        "dataframe = pd.DataFrame(data=new_coordinates, columns=('1st_principal', '2nd_principal', 'label'))\n",
        "print(dataframe.head())\n",
        "\n",
        "# plotting\n",
        "sns.FacetGrid(dataframe, hue='label').map(plt.scatter, '1st_principal', '2nd_principal').add_legend()\n",
        "plt.show()"
      ],
      "metadata": {
        "id": "Gw68IUzGZuGL"
      },
      "execution_count": null,
      "outputs": []
    },
    {
      "cell_type": "code",
      "source": [
        "# T-SNE\n",
        "\n",
        "# parameters\n",
        "    # n_components : 몇 개의 축으로 차원 축소 할 것인지\n",
        "    # perplexity : i 기준 주변 j를 몇개까지 고려할 것 인지, default=30\n",
        "    # learning_rate : KL-Divergence를 최적화 할 때 gradient descent를 활용\n",
        "        # GD를 할 때 learning rate 의미\n",
        "        # [10.0, 1000.0]\n",
        "        # default='auto'\n",
        "    # n_iter = GD iteration\n",
        "        # 적어도 250번 이상 해야함\n",
        "        # default=1000\n",
        "    # init : 처음 저차원에 대한 정보를 시작할 때 기준점, default='pca'\n",
        "    # method : gradient 계산할 때 쓰는 알고리즘\n",
        "        # barnes_hut, exact\n",
        "        # default='barnes_hut' -> approximation 함\n",
        "\n",
        "# using exact -> 1hr 15min\n",
        "# X_tsne_e = TNSE(n_components=2, method='exact').fit_transform(X)\n",
        "\n",
        "# using barnes_hut -> 1min 45sec\n",
        "X_tsne_b = TSNE(n_components=2, method='barnes_hut').fit_transform(X)\n",
        "\n",
        "# redesign\n",
        "new_coordinates_b = np.vstack((X_tsne_e[:, :2].T, y)).T\n",
        "dataframe_b = pd.DataFrame(data=new_coordinates_e, columns=('Axis 1', 'Axis 2', 'label'))\n",
        "# plotting\n",
        "sns.FacetGrid(dataframe_b, hue='label').map(plt.scatter, 'Axis 1', 'Axis 2').add_legend()\n",
        "plt.show()\n",
        "\n",
        "# iteration을 더 높이면 서로서로 더 잘 벌어짐"
      ],
      "metadata": {
        "id": "vHbUbzkcZw8K"
      },
      "execution_count": null,
      "outputs": []
    }
  ]
}