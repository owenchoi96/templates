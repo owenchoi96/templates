{
  "nbformat": 4,
  "nbformat_minor": 0,
  "metadata": {
    "colab": {
      "provenance": []
    },
    "kernelspec": {
      "name": "python3",
      "display_name": "Python 3"
    },
    "language_info": {
      "name": "python"
    }
  },
  "cells": [
    {
      "cell_type": "code",
      "execution_count": 1,
      "metadata": {
        "id": "YI-PV4mDCV-E"
      },
      "outputs": [],
      "source": [
        "# filling missing values\n",
        "from sklearn.impute import SimpleImputer, KNNImputer, MissingIndicator"
      ]
    },
    {
      "cell_type": "code",
      "source": [
        "# numbers\n",
        "# simple imputer\n",
        "imp = SimpleImputer(missing_values=np.nan, strategy='constant', fill_values=-9999)\n",
        "imputed = imp.fit_transform(df2.loc[:, ['column1', 'column2']].values)\n",
        "pd.DataFrame(imputed, columns=['column1', 'column2'])\n",
        "\n",
        "# n_neighbor\n",
        "knn_imp = KNNImputer(n_neighbors=2, weights='uniform')\n",
        "imputed = knn_imp.fit_transform(df2.loc[:, ['column1', 'column2']].values)\n",
        "pd.DataFrame(imputed, columns=['column1', 'column2'])"
      ],
      "metadata": {
        "id": "9uloBwkpCie6"
      },
      "execution_count": null,
      "outputs": []
    },
    {
      "cell_type": "code",
      "source": [
        "# string\n",
        "# 문자는 unknown으로 많이 처리함\n",
        "\n",
        "# simple imputer\n",
        "# unknown\n",
        "imp = SimpleImputer(missing_values=np.nan, strategy='constant', fill_values='unknown')\n",
        "imputed = imp.fit_transform(df2.loc[:, ['column1', 'column2']].values)\n",
        "pd.DataFrame(imputed, columns=['column1', 'column2'])\n",
        "\n",
        "# with mode\n",
        "imp = SimpleImputer(missing_values=np.nan, strategy='most_frequent')\n",
        "imputed = imp.fit_transform(df2.loc[:, ['column1', 'column2']].values)\n",
        "pd.DataFrame(imputed, columns=['column1', 'column2'])"
      ],
      "metadata": {
        "id": "IuZggHxwE3Cj"
      },
      "execution_count": null,
      "outputs": []
    },
    {
      "cell_type": "code",
      "source": [
        "# string to datetime\n",
        "import pandas as pd\n",
        "\n",
        "pd.date_range(start=df.date.min(), end=df.date.max(),\n",
        "              freq='D') # day"
      ],
      "metadata": {
        "id": "OKPT1uP3FsgP"
      },
      "execution_count": null,
      "outputs": []
    }
  ]
}