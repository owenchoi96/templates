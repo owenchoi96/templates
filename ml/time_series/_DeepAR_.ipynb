{
  "nbformat": 4,
  "nbformat_minor": 0,
  "metadata": {
    "colab": {
      "provenance": []
    },
    "kernelspec": {
      "name": "python3",
      "display_name": "Python 3"
    },
    "language_info": {
      "name": "python"
    }
  },
  "cells": [
    {
      "cell_type": "code",
      "execution_count": null,
      "metadata": {
        "id": "fF7rXRqR7klb"
      },
      "outputs": [],
      "source": [
        "!pip install -q glounts mxnet"
      ]
    },
    {
      "cell_type": "code",
      "source": [
        "from gluonts.dataset.common import ListDataset # time series 분석용 데이터셋으로\n",
        "from gluonts.dataset.field_names import FieldName\n",
        "from gluonts.mx.model.deepar import DeepAREstimator\n",
        "from gluonts.mx.trainer import Trainer\n",
        "from gluonts.evaluation.backtest import make_evaluation_predictions\n",
        "from pathlib import Path\n",
        "\n",
        "# 시계열 데이터로 만들어주기\n",
        "train_ds = ListDataset([{\n",
        "    FieldName.TARGET : train_df.values.flatten(), # flatten으로 행 데이터로 변환\n",
        "    FieldName.START : pd.Timestamp(\"2016-01-01 00:00:00\", freq='D') # D,W,M,Y\n",
        "}], freq='D')\n",
        "test_ds = ListDataset([{\n",
        "    FieldName.TARGET : test_df.values.flatten(),\n",
        "    FieldName.START : pd.Timestamp(\"2019-06-15 00:00:00\", freq='D')\n",
        "}], freq='D')\n",
        "\n",
        "# 예측기\n",
        "estimator = DeepAREstimator(\n",
        "    freq = 'D', # D, W, M, Y\n",
        "    trainer = Trainer(\n",
        "        ctx = 'cpu', # gpu | cpu, gpu 세팅 방법은 다시 설정 필요\n",
        "        epochs = 30, # overfitting하고 싶다면, epoch 수를 엄청 늘리면 됨\n",
        "        learning_rate = 1E-3,\n",
        "        hybridize = True, # 효율이 좋게 symbolic programming 사용\n",
        "        num_batches_per_epoch = 30 # 튜닝이 필요한 부분 (window size, 한달 주기)\n",
        "    ),\n",
        "    num_layers = 4, # layer의 개수는 보통 10개 미만\n",
        "    num_cells = 40, # lstm 셀 개수, 보통 20개에서 100개 미만으로 추천\n",
        "    context_length = 30, # 이 부분 튜닝 필요,\n",
        "    cell_type = 'lstm', # gru\n",
        "    prediction_length = 30 # 얼마의 기간에 대해서 예측할 것인가\n",
        ")\n",
        "predictor = estimator.train(train_ds)\n",
        "\n",
        "# 예측\n",
        "forecast_it, ts_it = make_evaluation_predictions(\n",
        "    dataset = test_ds,\n",
        "    predictor = predictor,\n",
        "    num_samples = 10, # number of sample paths we want for evaluation\n",
        ")\n",
        "\n",
        "forecasts = list(forecast_it)\n",
        "tss = list(ts_it)\n",
        "\n",
        "ts_entry = tss[0]\n",
        "forecast_entry = forecasts[0] # 0 번째에 prediction한 값이 들어가 있음\n",
        "\n",
        "# time series modeling error result\n",
        "from sklearn.metrics import mean_squared_error, mean_absolute_percentage_error\n",
        "mean_squared_error(list(forecast_entry.quantile(0.5)), list(ts_entry[0][-30:]), squared=False)"
      ],
      "metadata": {
        "id": "YmthfOwd7rdD"
      },
      "execution_count": null,
      "outputs": []
    }
  ]
}