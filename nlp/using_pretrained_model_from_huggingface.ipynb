{
  "nbformat": 4,
  "nbformat_minor": 0,
  "metadata": {
    "colab": {
      "provenance": []
    },
    "kernelspec": {
      "name": "python3",
      "display_name": "Python 3"
    },
    "language_info": {
      "name": "python"
    }
  },
  "cells": [
    {
      "cell_type": "code",
      "execution_count": null,
      "metadata": {
        "id": "bQ-As0PgqlgC"
      },
      "outputs": [],
      "source": [
        "from transformers import AutoModel, AutoTokenizer, BertTokenizer\n",
        "\n",
        "# model\n",
        "bert_model_name = 'bert-base-cased'\n",
        "\n",
        "# creating the model\n",
        "bert_model = AutoModel.from_pretrained(bert_model_name)\n",
        "\n",
        "# creating the tokenizer\n",
        "bert_tokenizer = AutoTokenizer.from_pretrained(bert_model_name)\n",
        "\n",
        "# checking vocab size\n",
        "print(bert_tokenizer.vocab_size)"
      ]
    }
  ]
}