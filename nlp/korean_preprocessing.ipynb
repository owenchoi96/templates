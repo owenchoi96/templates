{
  "nbformat": 4,
  "nbformat_minor": 0,
  "metadata": {
    "colab": {
      "provenance": []
    },
    "kernelspec": {
      "name": "python3",
      "display_name": "Python 3"
    },
    "language_info": {
      "name": "python"
    }
  },
  "cells": [
    {
      "cell_type": "code",
      "execution_count": null,
      "metadata": {
        "id": "bQ-As0PgqlgC"
      },
      "outputs": [],
      "source": [
        "# news crawler\n",
        "!pip install -q newspaper3k\n",
        "\n",
        "import newspaper\n",
        "newspaper.languages() # check possible languages\n",
        "\n",
        "from newspaper import Article\n",
        "url = '<url>'\n",
        "\n",
        "article = Article(url, language='ko')\n",
        "\n",
        "article.download()\n",
        "article.parse()\n",
        "\n",
        "print('title : ', article.title)\n",
        "print('title : ', article.text)"
      ]
    },
    {
      "cell_type": "code",
      "source": [
        "# sentence separator\n",
        "!pip install -q kss\n",
        "\n",
        "import kss\n",
        "\n",
        "def sentence_separator(processed_context):\n",
        "    splited_context = []\n",
        "\n",
        "    for text in processed_context:\n",
        "        text = text.strip()\n",
        "        if text:\n",
        "            splited_text = kss.split_sentences(text)\n",
        "            splited_context.extend(splited_text)\n",
        "    return splited_context"
      ],
      "metadata": {
        "id": "PCtxnvO_jemy"
      },
      "execution_count": null,
      "outputs": []
    },
    {
      "cell_type": "code",
      "source": [
        "# normalization (정규화)\n",
        "!pip install -q soynlp\n",
        "\n",
        "from soynlp.normalizer import *\n",
        "\n",
        "print(repeat_normalize('ㅋㅋㅋㅋㅋㅋㅋㅋ', num_repeats=2)) # example\n",
        "\n",
        "# 중복 문장 정규화\n",
        "from collections import OrderedDict\n",
        "\n",
        "def duplicated_sentence_normalizer(context):\n",
        "    context = list(OrderedDict.fromkeys(context))\n",
        "    return context"
      ],
      "metadata": {
        "id": "5D0gLUJijowQ"
      },
      "execution_count": null,
      "outputs": []
    },
    {
      "cell_type": "code",
      "source": [],
      "metadata": {
        "id": "He9luWGgj315"
      },
      "execution_count": null,
      "outputs": []
    }
  ]
}