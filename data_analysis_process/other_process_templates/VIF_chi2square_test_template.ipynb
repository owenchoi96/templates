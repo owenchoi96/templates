{
  "nbformat": 4,
  "nbformat_minor": 0,
  "metadata": {
    "colab": {
      "provenance": []
    },
    "kernelspec": {
      "name": "python3",
      "display_name": "Python 3"
    },
    "language_info": {
      "name": "python"
    }
  },
  "cells": [
    {
      "cell_type": "code",
      "execution_count": null,
      "metadata": {
        "id": "vqQM-c9dKfdq"
      },
      "outputs": [],
      "source": [
        "# VIF\n",
        "\n",
        "from statsmodels.stats.outliers_influence import variance_inflation_factor # VIF 검정\n",
        "\n",
        "def calculate_vif(df_target):\n",
        "    vif = pd.DataFrame()\n",
        "    vif['VIF_Factor'] = [variance_inflation_factor(df_target.values, i) for i in range(df_target.shape[1])]\n",
        "    vif['Feature'] = df_target.columns\n",
        "    return vif\n",
        "\n",
        "df_vif = df[list_numeric_columns].copy()"
      ]
    },
    {
      "cell_type": "code",
      "source": [
        "# chi2square\n",
        "from scipy.stat import chi2_contingency\n",
        "\n",
        "list_meaningful_column_by_chi = []\n",
        "for column_name in list_categorical_columns:\n",
        "    statistic, pvalue, _, _ = chi2_contingency(pd.crosstab(df[target_column], df[column_name]))\n",
        "    if pvalue < 0.05: # 의미가 없다는 귀무가설 기각할 시\n",
        "        list_meaningful_column_by_chi.append(column_name)\n",
        "    print(column_name, ', ', statistic, ', ', pvalue)\n",
        "print('all categorical columns : ', len(list_categorical_columns))\n",
        "print('selected columns by chi : ', len(list_meaningful_column_by_chi))"
      ],
      "metadata": {
        "id": "kvgQ2UZiKkGI"
      },
      "execution_count": null,
      "outputs": []
    }
  ]
}