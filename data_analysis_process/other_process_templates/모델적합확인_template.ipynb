{
  "nbformat": 4,
  "nbformat_minor": 0,
  "metadata": {
    "colab": {
      "provenance": []
    },
    "kernelspec": {
      "name": "python3",
      "display_name": "Python 3"
    },
    "language_info": {
      "name": "python"
    }
  },
  "cells": [
    {
      "cell_type": "code",
      "execution_count": null,
      "metadata": {
        "id": "MxKZXKeboyeA"
      },
      "outputs": [],
      "source": [
        "# statsmodels.formul.api의 ols를 활용한 정규성 검사\n",
        "# 시각화를 통해 확인\n",
        "\n",
        "# library\n",
        "import statsmodels.formula.api as smf\n",
        "from statsmodels.graphics import gofplots\n",
        "from statsmodels.graphics import regressionplots\n",
        "\n",
        "# example model\n",
        "ex_model = smf.ols('y~x', data={'x':x, 'y':y}).fit()\n",
        "ex_model.summary()\n",
        "\n",
        "# 적합치 대 잔차 시각화 (fitted vs. residual)\n",
        "def plot_gof_figures(ex_model):\n",
        "\n",
        "    \"\"\"\n",
        "    적합화 도면의 적절성을 보여주는 다중 패널 도면\n",
        "    \"\"\"\n",
        "\n",
        "    # 1) residual plot\n",
        "    sns.residplot(x = ex_model.fittedvalues, y = ex_model.resid, lowess=True)\n",
        "    plt.xlabel('Fitted values')\n",
        "    plt.ylabel('Residuals')\n",
        "    plt.title('Residuals vs Fitted')\n",
        "    plt.show()\n",
        "\n",
        "    # 2) qqplot\n",
        "    _ = gofplots.qqplot(ex_model.resid, fit=True, line='45')\n",
        "    plt.title('Normal Q-Q')\n",
        "    plt.show()\n",
        "\n",
        "    # 3)\n",
        "    plt.scatter(x=ex_model.fittedvalues, y=np.abs(ex_model.resid)**.5)\n",
        "    plt.xlabel('Fitted values')\n",
        "    plt.ylabel('Square root of the standardlized residuals')\n",
        "    plt.title('Scale-Location')\n",
        "    plt.show()\n",
        "\n",
        "    # 4)\n",
        "    regressionplots.plot_leverage_resid2(ex_model)"
      ]
    },
    {
      "cell_type": "code",
      "source": [
        "# 해석\n",
        "\n",
        "# 적합치와 잔차 사이에 명확한 패턴이 없을시\n",
        "# --> 이는 잔차가 무작위 오차에 기인한 것이라는 결론을 내릴 수 있음\n",
        "# --> 모델이 합리적이고 명백한 비선형성을 무시하지 않는다는 개념을 뒷받침함\n",
        "\n",
        "# 두번째 그림 : qqplot\n",
        "# 잔차가 정규 분포를 따르는지 여부를 확인하는데데 도움을 줌\n",
        "# 변수 간의 관계가 비선형하거나 가정과 일치하지 않으면 점이 대각에서 벗어난다\n",
        "\n",
        "# 세번째 그림: 잔차 절대값의 제곱근 (표준화 잔차)\n",
        "# 명확한 패턴이 없어야 됨 -> 있다면 비선형 관계를 암시\n",
        "\n",
        "# 네번째 그림: 잠재적 특이치, 즉 다른 분포에서 나올 수 있는 관측치를 식별하는데 다시 도움을 줌\n",
        "# 특이치는 다른 점에서 멀리 떨어져 있으면 적합선에 과도하게 영향을 미치기 때문에 문제가 됨\n",
        "# 포인트의 레버리지(leverage)는 포인트가 모델 계수에 미치는 영향을 보여줌\n",
        "# 잔차와 레버리지가 높으면 포인트가 다른 패터과 과도한 영향 모두를 가지고 있음을 나타냄\n",
        "# 포인트가 고표준화된 잔차 거리와 모델 레버지리를 기반으로 잠재적으로 문제가 되는 특이치인 경우 자동으로 행 번호로 레이블이 지정됨\n",
        "# 해당 점 검사 가능 (밑에 셀에서)"
      ],
      "metadata": {
        "id": "Ojb_DXlHqLx8"
      },
      "execution_count": null,
      "outputs": []
    }
  ]
}