{
  "nbformat": 4,
  "nbformat_minor": 0,
  "metadata": {
    "colab": {
      "provenance": []
    },
    "kernelspec": {
      "name": "python3",
      "display_name": "Python 3"
    },
    "language_info": {
      "name": "python"
    }
  },
  "cells": [
    {
      "cell_type": "code",
      "source": [
        "    <clustering process> (지속적인 업데이트 필요)\n",
        "\n",
        "    1. 피벗 테이블을 통해 피벗된 데이터프레임 만들어주기\n",
        "    2. 전체 컬럼에 대해서 스케일링해주기 (MinMaxScaler, etc)\n",
        "    3. 모델링 (ex. K-means)\n",
        "    4. 클러스터 결정 방법\n",
        "        - Elbow Method\n",
        "        - Silhoutte score (이건 추후에 더 자세히 알아보기)\n",
        "    5. 클러스터 비교 분석\n",
        "        - groupby를 해주어 비교 분석"
      ],
      "metadata": {
        "id": "NPvwnSRAtY3D"
      },
      "execution_count": null,
      "outputs": []
    },
    {
      "cell_type": "code",
      "execution_count": null,
      "metadata": {
        "id": "rPuaEFi9r6Cd"
      },
      "outputs": [],
      "source": [
        "# 1)\n",
        "df_pivot = df.pivot_table(index = df.index,\n",
        "                          columns = , # 'category_code_1st'\n",
        "                          values = ['price', 'price'], # 'price' OR 알고 싶은 컬럼값\n",
        "                          aggfunc=['first', 'count']).fillna(0) # 'first', 'count' OR 알고 싶은 다른 합계값\n",
        "df_pivot.columns = ['_'.join(col) for col in df_pivot.columns.values] # pivot 했을 때 멀티 컬럼으로 이루어져 있는데, 컬럼 하나로 합치는 과정\n",
        "df_pivot['user_id'] = df['user_id'] # user_id 포함시키기"
      ]
    },
    {
      "cell_type": "code",
      "source": [
        "# 2)\n",
        "from sklearn.preprocessing import MinMaxScaler\n",
        "\n",
        "scaler = MinMaxScaler()\n",
        "df_pivot.loc[:, :] = scaler.fit_transform(df_pivot) # 전체 컬럼에 대하여 MinMaxScaling\n",
        "df_pivot.head(1)"
      ],
      "metadata": {
        "id": "GpFSc-06ux_Z"
      },
      "execution_count": null,
      "outputs": []
    },
    {
      "cell_type": "code",
      "source": [
        "# 3) K-means as an example\n",
        "from sklearn.cluster import KMeans\n",
        "from tqdm.notebook import tqdm\n",
        "\n",
        "sum_of_squared_distances = []\n",
        "K = range(2, 19+1) # k optimization\n",
        "for k in tqdm(K):\n",
        "    km = KMeans(n_clusters=k)\n",
        "    km = km.fit(df_user_pivot)\n",
        "    sum_of_squared_distances.append(km.inertia_) # inertia_"
      ],
      "metadata": {
        "id": "7wxbx9Avu3qe"
      },
      "execution_count": null,
      "outputs": []
    },
    {
      "cell_type": "code",
      "source": [
        "# 4) Elbow Method\n",
        "\n",
        "plt.plot(K, sum_of_squared_distances, 'bx-')\n",
        "plt.xlabel('k')\n",
        "plt.ylabel('Sum_of_squared_distances')\n",
        "plt.title('Elbow Method For Optimal k')\n",
        "plt.show()"
      ],
      "metadata": {
        "id": "sXY8U7aovDTU"
      },
      "execution_count": null,
      "outputs": []
    },
    {
      "cell_type": "code",
      "source": [
        "# 5)\n",
        "km_final.predict(df_user_pivot)\n",
        "df_user_pivot['cluster_number'] = km_final.predict(df_user_pivot)\n",
        "cluster_result = df_user_pivot.groupby('cluster_number').agg(np.mean) # 클러스터별 평균값."
      ],
      "metadata": {
        "id": "Wq3wGMm2v0WN"
      },
      "execution_count": null,
      "outputs": []
    }
  ]
}