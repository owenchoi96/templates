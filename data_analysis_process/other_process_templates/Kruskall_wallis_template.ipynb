{
  "nbformat": 4,
  "nbformat_minor": 0,
  "metadata": {
    "colab": {
      "provenance": []
    },
    "kernelspec": {
      "name": "python3",
      "display_name": "Python 3"
    },
    "language_info": {
      "name": "python"
    }
  },
  "cells": [
    {
      "cell_type": "code",
      "execution_count": null,
      "metadata": {
        "id": "1ipsE9XWVNC9"
      },
      "outputs": [],
      "source": [
        "# kruskall 검정\n",
        "# target column, list_categorical_columns 미리 필요\n",
        "from tqdm.notebook import tqdm\n",
        "\n",
        "list_meaningful_column_by_kruskall = []\n",
        "\n",
        "for column_name in tqdm(list_categorical_columns):\n",
        "  list_by_value = []\n",
        "  for value in df_final[column_name].dropna().unique():\n",
        "      df_tmp = df_final[df_final[column_name] == value][target_column].dropna()\n",
        "      list_by_value.append(np.array(df_tmp))\n",
        "  statistic, pvalue = kruskal(*list_by_value)\n",
        "  if pvalue <= 0.05:\n",
        "    list_meaningful_column_by_kruskall.append(column_name)\n",
        "  print(column_name, \", \",statistic,\", \", pvalue)\n",
        "print(\"all categorical columns : \", len(list_categorical_columns))\n",
        "print(\"selected columns by kruskal : \", len(list_meaningful_column_by_kruskall), list_meaningful_column_by_kruskall)\n",
        "\n",
        "# 이후 선택된 categorical variables 로 feature selection 하기"
      ]
    }
  ]
}