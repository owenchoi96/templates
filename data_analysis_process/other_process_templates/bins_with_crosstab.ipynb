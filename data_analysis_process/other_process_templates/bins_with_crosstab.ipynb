{
  "nbformat": 4,
  "nbformat_minor": 0,
  "metadata": {
    "colab": {
      "provenance": []
    },
    "kernelspec": {
      "name": "python3",
      "display_name": "Python 3"
    },
    "language_info": {
      "name": "python"
    }
  },
  "cells": [
    {
      "cell_type": "code",
      "execution_count": null,
      "metadata": {
        "id": "UMzfnSdGyA-R"
      },
      "outputs": [],
      "source": [
        "# bin을 정하고 그 사이에 떨어지는 개수들 계산\n",
        "# crosstab의 기능중 margin을 사용하여 전체 개수를 따로 컬럼을 만들어줄 필요 없음\n",
        "# ratio (비율) 계산을 통해 어떤 구간에서 전체 예측 확률보다 높아지는지 확인할 수 있음\n",
        "# 전체 예측 확률보다 높아지는 구간에 대해서만 마케팅등을 수행할 수 있음.\n",
        "\n",
        "# bins = [0.0, 0.1, 0.2, 0.3, 0.4, 0.5, 0.6, 0.7, 0.8, 0.9, 1.0]\n",
        "bins=[0.0, 0.3, 0.6, 1.0] # 10등분을 했을 때 bin이 너무 많아 줄여서 다시 bin 설정\n",
        "lift_base = y_test.value_counts(normalize=True)[1]\n",
        "\n",
        "confusion_matrix1 = pd.crosstab(pd.cut(y_pred_test_proba, bins, right=False), y_test, rownames=['Predicted'], colnames=['Actual'], margins=True)\n",
        "confusion_matrix1['ratio'] = round((pd.DataFrame(confusion_matrix1)[1]/pd.DataFrame(confusion_matrix1)['All']), 2)\n",
        "confusion_matrix1['Lift'] = round(confusion_matrix1['ratio']/lift_base, 1)\n",
        "confusion_matrix1"
      ]
    }
  ]
}