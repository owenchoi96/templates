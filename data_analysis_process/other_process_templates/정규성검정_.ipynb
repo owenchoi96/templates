{
  "nbformat": 4,
  "nbformat_minor": 0,
  "metadata": {
    "colab": {
      "provenance": []
    },
    "kernelspec": {
      "name": "python3",
      "display_name": "Python 3"
    },
    "language_info": {
      "name": "python"
    }
  },
  "cells": [
    {
      "cell_type": "code",
      "execution_count": null,
      "metadata": {
        "id": "UxEAru6Ud9lk"
      },
      "outputs": [],
      "source": [
        "# 정규성 검정 for ANOVA\n",
        "\n",
        "# shapiro wilk test 검정\n",
        "# 귀무가설: 해당 데이터는 정규분포이다\n",
        "# 대립가설: 해당 데이터는 정규분포가 아니다.\n",
        "for column_name in list_numeric_columns:\n",
        "    statistic, pvalue = stats.shapiro(df[column_name])\n",
        "    if pvalue >= .05:\n",
        "        print(column_name)\n",
        "print('end')\n",
        "\n",
        "# 정규성 만족하는 데이터 X"
      ]
    }
  ]
}