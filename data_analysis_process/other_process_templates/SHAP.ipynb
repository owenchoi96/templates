{
  "nbformat": 4,
  "nbformat_minor": 0,
  "metadata": {
    "colab": {
      "provenance": []
    },
    "kernelspec": {
      "name": "python3",
      "display_name": "Python 3"
    },
    "language_info": {
      "name": "python"
    }
  },
  "cells": [
    {
      "cell_type": "code",
      "execution_count": null,
      "metadata": {
        "id": "WQuEmSN_IR7U"
      },
      "outputs": [],
      "source": [
        "!pip install -q shap"
      ]
    },
    {
      "cell_type": "code",
      "source": [
        "# after training model and getting best model\n",
        "\n",
        "# force_plot\n",
        "# dependence_plot : 각 특성의 Shapely value 확인 가능\n",
        "# summary_plot : global하게 Shapely value 보여줌\n",
        "\n",
        "# 주의사항\n",
        "    # Shapely values를 계산할 때 시간이 (굉장히) 오래 걸림\n",
        "    # 데이터가 크면 클수록 오래 걸리기 때문에 index만 추출하여 계산하는 것을 추천\n",
        "\n",
        "# TreeExplainer\n",
        "# GradientExplainer\n",
        "# KernelExplainer (시간 엄청 오래 걸림)"
      ],
      "metadata": {
        "id": "khkSnLyPIWcK"
      },
      "execution_count": null,
      "outputs": []
    },
    {
      "cell_type": "code",
      "source": [
        "# shap explainer\n",
        "explainer = shap.TreeExplainer(best_model)\n",
        "# shape values 계산\n",
        "shap_values = explainer.shap_values(X.iloc[train_idx])\n",
        "\n",
        "# force_plot\n",
        "shap.initjs()\n",
        "shap.force_plot(explainer.expected_value, shap_values[0, :], X.iloc[train_idx[0], :], link='logit')\n",
        "Y.loc[train_idx[0]] # 같이 plot하여 비교\n",
        "\n",
        "# 누적\n",
        "shap.initjs()\n",
        "shap.force_plot(explainer.expected_value, shap_values, X.iloc[train_idx])\n",
        "\n",
        "# shap values의 절댓값이 큰 순서대로 정렬\n",
        "# dependence_plot\n",
        "top_inds = np.argsort(-np.sum(np.abs(shap_values), 0))\n",
        "for i in range(3):\n",
        "    shap.dependence_plot(top_inds[i], shap_values, X.iloc[train_idx])\n",
        "\n",
        "# global importance score\n",
        "shap.summary_plot(shap_values, X.iloc[train_idx])\n",
        "# 오른쪽으로 갈수록 클래수 1에 영향을 많이 주고, 왼쪽으로 갈수록 클래수 0에 영향을 많이 줌 (binary)"
      ],
      "metadata": {
        "id": "_FoPlB5CJRg6"
      },
      "execution_count": null,
      "outputs": []
    }
  ]
}